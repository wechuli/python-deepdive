{
 "cells": [
  {
   "cell_type": "markdown",
   "metadata": {},
   "source": [
    "#### Import Variants and Misconceptions"
   ]
  },
  {
   "cell_type": "markdown",
   "metadata": {},
   "source": [
    "I would like to briefly discuss the various import variants such as:\n",
    "\n",
    "* `import math`\n",
    "* `from math import sqrt, abs`\n",
    "* `from math import *`\n",
    "* `import math as r_math`\n",
    "* `from math import sqrt as r_sqrt`"
   ]
  },
  {
   "cell_type": "markdown",
   "metadata": {},
   "source": [
    "##### import math"
   ]
  },
  {
   "cell_type": "markdown",
   "metadata": {},
   "source": [
    "* loads the entire module (`math`) in memory if it's not already there\n",
    "* adds a reference to it in `sys.modules` with a key of `math`\n",
    "* adds a symbol of the same name (`math`) in our current namespace referencing the `math` object"
   ]
  },
  {
   "cell_type": "markdown",
   "metadata": {},
   "source": [
    "##### import math as r_math"
   ]
  },
  {
   "cell_type": "markdown",
   "metadata": {},
   "source": [
    "* loads the entire module (`math`) in memory if it's not already there\n",
    "* adds a reference to it in `sys.modules` with a key of `math`\n",
    "* adds the symbol `r_math` to our current namespace referencing the `math` object"
   ]
  },
  {
   "cell_type": "markdown",
   "metadata": {},
   "source": [
    "##### from math import sqrt"
   ]
  },
  {
   "cell_type": "markdown",
   "metadata": {},
   "source": [
    "* loads the entire module (`math`) in memory if it's not already there\n",
    "* adds a reference to it in `sys.modules` with a key of `math`\n",
    "* adds the symbol `sqrt` to our current namespace referencing the `math.sqrt` function\n",
    "* it **does not** add the symbol `math` to our current namespace"
   ]
  },
  {
   "cell_type": "markdown",
   "metadata": {},
   "source": [
    "##### from math import sqrt as r_sqrt"
   ]
  },
  {
   "cell_type": "markdown",
   "metadata": {},
   "source": [
    "* loads the entire module (`math`) in memory if it's not already there\n",
    "* adds a reference to it in `sys.modules` with a key of `math`\n",
    "* adds the symbol `r_sqrt` to our current namespace referencing the `math.sqrt` function\n",
    "* it **does not** add the symbol `math` to our current namespace"
   ]
  },
  {
   "cell_type": "markdown",
   "metadata": {},
   "source": [
    "##### from math import *"
   ]
  },
  {
   "cell_type": "markdown",
   "metadata": {},
   "source": [
    "* loads the entire module (`math`) in memory if it's not already there\n",
    "* adds a reference to it in `sys.modules` with a key of `math`\n",
    "* adds symbols for all exported symbols in the `math` module directly to our name space (we'll see how what is exported from a module/package can be controlled using underscores or `__all__` later)\n",
    "* it **does not** add the symbol `math` to our current namespace"
   ]
  },
  {
   "cell_type": "markdown",
   "metadata": {},
   "source": [
    "As you can see, in **every** instance, the module is imported and a reference to it is added to `sys.modules`. The variants really have to do with what is injected into our current **namespace**: the module name, an alias to it, just the specified symbols from the module, or all the exported symbols from the module."
   ]
  },
  {
   "cell_type": "markdown",
   "metadata": {},
   "source": [
    "#### Misconceptions"
   ]
  },
  {
   "cell_type": "markdown",
   "metadata": {},
   "source": [
    "This leads to the first misconception:"
   ]
  },
  {
   "cell_type": "markdown",
   "metadata": {},
   "source": [
    "\"You should use\n",
    "\n",
    "`from math import sqrt, abs`\n",
    "\n",
    "rather than \n",
    "\n",
    "`import math`\n",
    "\n",
    "because that way you only import what you need and you're not having Python load the entire module?\""
   ]
  },
  {
   "cell_type": "markdown",
   "metadata": {},
   "source": [
    "For `math` that's just not true. In fact for any *simple* module.\n",
    "\n",
    "For *packages* that have subpackages, that may or may not be true - we'll see that later."
   ]
  },
  {
   "cell_type": "markdown",
   "metadata": {},
   "source": [
    "Let's actually test this out.\n",
    "\n",
    "We have to be a little careful, because Jupyter imports a ton of modules and packages:"
   ]
  },
  {
   "cell_type": "code",
   "execution_count": 1,
   "metadata": {},
   "outputs": [
    {
     "output_type": "stream",
     "name": "stdout",
     "text": "IPython\nIPython.core\nIPython.core.alias\nIPython.core.application\nIPython.core.async_helpers\nIPython.core.autocall\nIPython.core.builtin_trap\nIPython.core.compilerop\nIPython.core.completer\nIPython.core.completerlib\nIPython.core.crashhandler\nIPython.core.debugger\nIPython.core.display\nIPython.core.display_trap\nIPython.core.displayhook\nIPython.core.displaypub\nIPython.core.error\nIPython.core.events\nIPython.core.excolors\nIPython.core.extensions\nIPython.core.formatters\nIPython.core.getipython\nIPython.core.history\nIPython.core.hooks\nIPython.core.inputtransformer2\nIPython.core.interactiveshell\nIPython.core.latex_symbols\nIPython.core.logger\nIPython.core.macro\nIPython.core.magic\nIPython.core.magic_arguments\nIPython.core.magics\nIPython.core.magics.auto\nIPython.core.magics.basic\nIPython.core.magics.code\nIPython.core.magics.config\nIPython.core.magics.display\nIPython.core.magics.execution\nIPython.core.magics.extension\nIPython.core.magics.history\nIPython.core.magics.logging\nIPython.core.magics.namespace\nIPython.core.magics.osm\nIPython.core.magics.packaging\nIPython.core.magics.pylab\nIPython.core.magics.script\nIPython.core.oinspect\nIPython.core.page\nIPython.core.payload\nIPython.core.payloadpage\nIPython.core.prefilter\nIPython.core.profiledir\nIPython.core.pylabtools\nIPython.core.release\nIPython.core.shellapp\nIPython.core.splitinput\nIPython.core.ultratb\nIPython.core.usage\nIPython.display\nIPython.extensions\nIPython.extensions.storemagic\nIPython.lib\nIPython.lib.backgroundjobs\nIPython.lib.clipboard\nIPython.lib.display\nIPython.lib.pretty\nIPython.lib.security\nIPython.paths\nIPython.terminal\nIPython.terminal.debugger\nIPython.terminal.embed\nIPython.terminal.interactiveshell\nIPython.terminal.ipapp\nIPython.terminal.magics\nIPython.terminal.prompts\nIPython.terminal.pt_inputhooks\nIPython.terminal.ptutils\nIPython.terminal.shortcuts\nIPython.testing\nIPython.testing.skipdoctest\nIPython.utils\nIPython.utils.PyColorize\nIPython.utils._process_common\nIPython.utils._process_win32\nIPython.utils._sysinfo\nIPython.utils.capture\nIPython.utils.colorable\nIPython.utils.coloransi\nIPython.utils.contexts\nIPython.utils.data\nIPython.utils.decorators\nIPython.utils.dir2\nIPython.utils.encoding\nIPython.utils.frame\nIPython.utils.generics\nIPython.utils.importstring\nIPython.utils.io\nIPython.utils.ipstruct\nIPython.utils.module_paths\nIPython.utils.openpy\nIPython.utils.path\nIPython.utils.process\nIPython.utils.py3compat\nIPython.utils.sentinel\nIPython.utils.strdispatch\nIPython.utils.sysinfo\nIPython.utils.syspathcontext\nIPython.utils.tempdir\nIPython.utils.terminal\nIPython.utils.text\nIPython.utils.timing\nIPython.utils.tokenutil\nIPython.utils.wildcard\n__future__\n__main__\n_abc\n_ast\n_asyncio\n_bisect\n_blake2\n_bootlocale\n_bz2\n_codecs\n_collections\n_collections_abc\n_compat_pickle\n_compression\n_contextvars\n_ctypes\n_cython_0_29_15\n_datetime\n_decimal\n_frozen_importlib\n_frozen_importlib_external\n_functools\n_hashlib\n_heapq\n_imp\n_io\n_json\n_locale\n_lsprof\n_lzma\n_opcode\n_operator\n_overlapped\n_pickle\n_queue\n_random\n_sha3\n_sha512\n_signal\n_sitebuiltins\n_socket\n_sqlite3\n_sre\n_ssl\n_stat\n_string\n_strptime\n_struct\n_thread\n_warnings\n_weakref\n_weakrefset\n_winapi\nabc\nargparse\narray\nast\nasyncio\nasyncio.base_events\nasyncio.base_futures\nasyncio.base_subprocess\nasyncio.base_tasks\nasyncio.constants\nasyncio.coroutines\nasyncio.events\nasyncio.exceptions\nasyncio.format_helpers\nasyncio.futures\nasyncio.locks\nasyncio.log\nasyncio.proactor_events\nasyncio.protocols\nasyncio.queues\nasyncio.runners\nasyncio.selector_events\nasyncio.sslproto\nasyncio.staggered\nasyncio.streams\nasyncio.subprocess\nasyncio.tasks\nasyncio.transports\nasyncio.trsock\nasyncio.windows_events\nasyncio.windows_utils\natexit\nbackcall\nbackcall.backcall\nbase64\nbdb\nbinascii\nbisect\nbuiltins\nbz2\ncProfile\ncalendar\ncmd\ncode\ncodecs\ncodeop\ncollections\ncollections.abc\ncolorama\ncolorama.ansi\ncolorama.ansitowin32\ncolorama.initialise\ncolorama.win32\ncolorama.winterm\ncolorsys\nconcurrent\nconcurrent.futures\nconcurrent.futures._base\ncontextlib\ncontextvars\ncopy\ncopyreg\nctypes\nctypes._endian\nctypes.wintypes\ncython_runtime\ndatetime\ndateutil\ndateutil._common\ndateutil._version\ndateutil.parser\ndateutil.parser._parser\ndateutil.parser.isoparser\ndateutil.relativedelta\ndateutil.tz\ndateutil.tz._common\ndateutil.tz._factories\ndateutil.tz.tz\ndateutil.tz.win\ndecimal\ndecorator\ndifflib\ndis\ndistutils\ndistutils.debug\ndistutils.dep_util\ndistutils.errors\ndistutils.log\ndistutils.spawn\ndistutils.util\ndistutils.version\nemail\nemail._encoded_words\nemail._parseaddr\nemail._policybase\nemail.base64mime\nemail.charset\nemail.encoders\nemail.errors\nemail.feedparser\nemail.header\nemail.iterators\nemail.message\nemail.parser\nemail.quoprimime\nemail.utils\nencodings\nencodings.aliases\nencodings.cp1252\nencodings.latin_1\nencodings.utf_8\nenum\nerrno\nfaulthandler\nfilecmp\nfnmatch\nfunctools\ngc\ngenericpath\ngetopt\ngetpass\ngettext\nglob\nhashlib\nheapq\nhmac\nhtml\nhtml.entities\nhttp\nhttp.client\nimp\nimportlib\nimportlib._bootstrap\nimportlib._bootstrap_external\nimportlib.abc\nimportlib.machinery\nimportlib.util\ninspect\nio\nipykernel\nipykernel._version\nipykernel.codeutil\nipykernel.comm\nipykernel.comm.comm\nipykernel.comm.manager\nipykernel.connect\nipykernel.datapub\nipykernel.displayhook\nipykernel.eventloops\nipykernel.heartbeat\nipykernel.iostream\nipykernel.ipkernel\nipykernel.jsonutil\nipykernel.kernelapp\nipykernel.kernelbase\nipykernel.parentpoller\nipykernel.pickleutil\nipykernel.serialize\nipykernel.zmqshell\nipython_genutils\nipython_genutils._version\nipython_genutils.encoding\nipython_genutils.importstring\nipython_genutils.path\nipython_genutils.py3compat\nipython_genutils.text\nitertools\njedi\njedi._compatibility\njedi.api\njedi.api.classes\njedi.api.completion\njedi.api.completion_cache\njedi.api.environment\njedi.api.exceptions\njedi.api.file_name\njedi.api.helpers\njedi.api.interpreter\njedi.api.keywords\njedi.api.project\njedi.api.strings\njedi.cache\njedi.common\njedi.common.utils\njedi.common.value\njedi.debug\njedi.file_io\njedi.inference\njedi.inference.analysis\njedi.inference.arguments\njedi.inference.base_value\njedi.inference.cache\njedi.inference.compiled\njedi.inference.compiled.access\njedi.inference.compiled.getattr_static\njedi.inference.compiled.mixed\njedi.inference.compiled.subprocess\njedi.inference.compiled.subprocess.functions\njedi.inference.compiled.value\njedi.inference.context\njedi.inference.docstrings\njedi.inference.filters\njedi.inference.flow_analysis\njedi.inference.gradual\njedi.inference.gradual.annotation\njedi.inference.gradual.base\njedi.inference.gradual.conversion\njedi.inference.gradual.generics\njedi.inference.gradual.stub_value\njedi.inference.gradual.type_var\njedi.inference.gradual.typeshed\njedi.inference.gradual.typing\njedi.inference.gradual.utils\njedi.inference.helpers\njedi.inference.imports\njedi.inference.lazy_value\njedi.inference.names\njedi.inference.param\njedi.inference.parser_cache\njedi.inference.recursion\njedi.inference.references\njedi.inference.signature\njedi.inference.syntax_tree\njedi.inference.sys_path\njedi.inference.utils\njedi.inference.value\njedi.inference.value.decorator\njedi.inference.value.dynamic_arrays\njedi.inference.value.function\njedi.inference.value.instance\njedi.inference.value.iterable\njedi.inference.value.klass\njedi.inference.value.module\njedi.parser_utils\njedi.plugins\njedi.plugins.flask\njedi.plugins.pytest\njedi.plugins.registry\njedi.plugins.stdlib\njedi.settings\njson\njson.decoder\njson.encoder\njson.scanner\njupyter_client\njupyter_client._version\njupyter_client.adapter\njupyter_client.asynchronous\njupyter_client.asynchronous.channels\njupyter_client.asynchronous.client\njupyter_client.blocking\njupyter_client.blocking.channels\njupyter_client.blocking.client\njupyter_client.channels\njupyter_client.channelsabc\njupyter_client.client\njupyter_client.clientabc\njupyter_client.connect\njupyter_client.jsonutil\njupyter_client.kernelspec\njupyter_client.launcher\njupyter_client.localinterfaces\njupyter_client.manager\njupyter_client.managerabc\njupyter_client.multikernelmanager\njupyter_client.session\njupyter_core\njupyter_core.paths\njupyter_core.version\nkeyword\nlinecache\nlocale\nlogging\nlogging.handlers\nlzma\nmarshal\nmath\nmimetypes\nmsvcrt\nnt\nntpath\nntsecuritycon\nnturl2path\nnumbers\nopcode\noperator\nos\nos.path\nparso\nparso._compatibility\nparso.cache\nparso.file_io\nparso.grammar\nparso.normalizer\nparso.parser\nparso.pgen2\nparso.pgen2.generator\nparso.pgen2.grammar_parser\nparso.python\nparso.python.diff\nparso.python.errors\nparso.python.parser\nparso.python.pep8\nparso.python.prefix\nparso.python.token\nparso.python.tokenize\nparso.python.tree\nparso.tree\nparso.utils\npathlib\npdb\npickle\npickleshare\npkgutil\nplatform\nposixpath\npprint\nprofile\nprompt_toolkit\nprompt_toolkit.application\nprompt_toolkit.application.application\nprompt_toolkit.application.current\nprompt_toolkit.application.dummy\nprompt_toolkit.application.run_in_terminal\nprompt_toolkit.auto_suggest\nprompt_toolkit.buffer\nprompt_toolkit.cache\nprompt_toolkit.clipboard\nprompt_toolkit.clipboard.base\nprompt_toolkit.clipboard.in_memory\nprompt_toolkit.completion\nprompt_toolkit.completion.base\nprompt_toolkit.completion.filesystem\nprompt_toolkit.completion.fuzzy_completer\nprompt_toolkit.completion.nested\nprompt_toolkit.completion.word_completer\nprompt_toolkit.data_structures\nprompt_toolkit.document\nprompt_toolkit.enums\nprompt_toolkit.eventloop\nprompt_toolkit.eventloop.async_generator\nprompt_toolkit.eventloop.inputhook\nprompt_toolkit.eventloop.utils\nprompt_toolkit.filters\nprompt_toolkit.filters.app\nprompt_toolkit.filters.base\nprompt_toolkit.filters.cli\nprompt_toolkit.filters.utils\nprompt_toolkit.formatted_text\nprompt_toolkit.formatted_text.ansi\nprompt_toolkit.formatted_text.base\nprompt_toolkit.formatted_text.html\nprompt_toolkit.formatted_text.pygments\nprompt_toolkit.formatted_text.utils\nprompt_toolkit.history\nprompt_toolkit.input\nprompt_toolkit.input.ansi_escape_sequences\nprompt_toolkit.input.base\nprompt_toolkit.input.defaults\nprompt_toolkit.input.typeahead\nprompt_toolkit.input.vt100_parser\nprompt_toolkit.key_binding\nprompt_toolkit.key_binding.bindings\nprompt_toolkit.key_binding.bindings.auto_suggest\nprompt_toolkit.key_binding.bindings.basic\nprompt_toolkit.key_binding.bindings.completion\nprompt_toolkit.key_binding.bindings.cpr\nprompt_toolkit.key_binding.bindings.emacs\nprompt_toolkit.key_binding.bindings.focus\nprompt_toolkit.key_binding.bindings.mouse\nprompt_toolkit.key_binding.bindings.named_commands\nprompt_toolkit.key_binding.bindings.open_in_editor\nprompt_toolkit.key_binding.bindings.page_navigation\nprompt_toolkit.key_binding.bindings.scroll\nprompt_toolkit.key_binding.bindings.vi\nprompt_toolkit.key_binding.defaults\nprompt_toolkit.key_binding.digraphs\nprompt_toolkit.key_binding.emacs_state\nprompt_toolkit.key_binding.key_bindings\nprompt_toolkit.key_binding.key_processor\nprompt_toolkit.key_binding.vi_state\nprompt_toolkit.keys\nprompt_toolkit.layout\nprompt_toolkit.layout.containers\nprompt_toolkit.layout.controls\nprompt_toolkit.layout.dimension\nprompt_toolkit.layout.dummy\nprompt_toolkit.layout.layout\nprompt_toolkit.layout.margins\nprompt_toolkit.layout.menus\nprompt_toolkit.layout.mouse_handlers\nprompt_toolkit.layout.processors\nprompt_toolkit.layout.screen\nprompt_toolkit.layout.utils\nprompt_toolkit.lexers\nprompt_toolkit.lexers.base\nprompt_toolkit.lexers.pygments\nprompt_toolkit.mouse_events\nprompt_toolkit.output\nprompt_toolkit.output.base\nprompt_toolkit.output.color_depth\nprompt_toolkit.output.defaults\nprompt_toolkit.output.vt100\nprompt_toolkit.patch_stdout\nprompt_toolkit.renderer\nprompt_toolkit.search\nprompt_toolkit.selection\nprompt_toolkit.shortcuts\nprompt_toolkit.shortcuts.dialogs\nprompt_toolkit.shortcuts.progress_bar\nprompt_toolkit.shortcuts.progress_bar.base\nprompt_toolkit.shortcuts.progress_bar.formatters\nprompt_toolkit.shortcuts.prompt\nprompt_toolkit.shortcuts.utils\nprompt_toolkit.styles\nprompt_toolkit.styles.base\nprompt_toolkit.styles.defaults\nprompt_toolkit.styles.named_colors\nprompt_toolkit.styles.pygments\nprompt_toolkit.styles.style\nprompt_toolkit.styles.style_transformation\nprompt_toolkit.utils\nprompt_toolkit.validation\nprompt_toolkit.widgets\nprompt_toolkit.widgets.base\nprompt_toolkit.widgets.dialogs\nprompt_toolkit.widgets.menus\nprompt_toolkit.widgets.toolbars\npstats\npydoc\npydoc_data\npydoc_data.topics\npygments\npygments.filter\npygments.filters\npygments.formatter\npygments.formatters\npygments.formatters._mapping\npygments.formatters.html\npygments.lexer\npygments.lexers\npygments.lexers._mapping\npygments.lexers.python\npygments.modeline\npygments.plugin\npygments.regexopt\npygments.style\npygments.styles\npygments.token\npygments.unistring\npygments.util\npywin32_bootstrap\nqueue\nquopri\nrandom\nre\nreprlib\nrunpy\nselect\nselectors\nshlex\nshutil\nsignal\nsite\nsix\nsix.moves\nsocket\nsqlite3\nsqlite3.dbapi2\nsre_compile\nsre_constants\nsre_parse\nssl\nstat\nstoremagic\nstring\nstruct\nsubprocess\nsys\nsysconfig\ntempfile\ntextwrap\nthreading\ntime\ntimeit\ntoken\ntokenize\ntornado\ntornado.concurrent\ntornado.escape\ntornado.gen\ntornado.ioloop\ntornado.locks\ntornado.log\ntornado.platform\ntornado.platform.asyncio\ntornado.queues\ntornado.speedups\ntornado.util\ntraceback\ntraitlets\ntraitlets._version\ntraitlets.config\ntraitlets.config.application\ntraitlets.config.configurable\ntraitlets.config.loader\ntraitlets.log\ntraitlets.traitlets\ntraitlets.utils\ntraitlets.utils.bunch\ntraitlets.utils.getargspec\ntraitlets.utils.importstring\ntraitlets.utils.sentinel\ntypes\ntyping\ntyping.io\ntyping.re\nunicodedata\nurllib\nurllib.error\nurllib.parse\nurllib.request\nurllib.response\nuu\nuuid\nvirtualenvwrapper\nwarnings\nwcwidth\nwcwidth.table_wide\nwcwidth.table_zero\nwcwidth.wcwidth\nweakref\nwin32api\nwin32security\nwinreg\nxml\nxml.dom\nxml.dom.NodeFilter\nxml.dom.domreg\nxml.dom.minicompat\nxml.dom.minidom\nxml.dom.xmlbuilder\nzipimport\nzlib\nzmq\nzmq._future\nzmq.asyncio\nzmq.backend\nzmq.backend.cython\nzmq.backend.cython._device\nzmq.backend.cython._poll\nzmq.backend.cython._proxy_steerable\nzmq.backend.cython._version\nzmq.backend.cython.constants\nzmq.backend.cython.context\nzmq.backend.cython.error\nzmq.backend.cython.message\nzmq.backend.cython.socket\nzmq.backend.cython.utils\nzmq.backend.select\nzmq.error\nzmq.eventloop\nzmq.eventloop.ioloop\nzmq.eventloop.zmqstream\nzmq.libzmq\nzmq.sugar\nzmq.sugar.attrsettr\nzmq.sugar.constants\nzmq.sugar.context\nzmq.sugar.frame\nzmq.sugar.poll\nzmq.sugar.socket\nzmq.sugar.stopwatch\nzmq.sugar.tracker\nzmq.sugar.version\nzmq.utils\nzmq.utils.constant_names\nzmq.utils.jsonapi\nzmq.utils.strtypes\n"
    }
   ],
   "source": [
    "import sys\n",
    "for key in sorted(sys.modules.keys()):\n",
    "    print(key)"
   ]
  },
  {
   "cell_type": "markdown",
   "metadata": {},
   "source": [
    "so they're already loaded and in the `sys.modules` dictionary.\n",
    "\n",
    "\n",
    "Fortunately `cmath` is not one of them, so we'll use that one."
   ]
  },
  {
   "cell_type": "code",
   "execution_count": 2,
   "metadata": {},
   "outputs": [
    {
     "output_type": "execute_result",
     "data": {
      "text/plain": "False"
     },
     "metadata": {},
     "execution_count": 2
    }
   ],
   "source": [
    "'cmath' in sys.modules"
   ]
  },
  {
   "cell_type": "markdown",
   "metadata": {},
   "source": [
    "Let's go ahead and just import a single symbol from `cmath`, the `exp` function:"
   ]
  },
  {
   "cell_type": "code",
   "execution_count": 3,
   "metadata": {
    "collapsed": true
   },
   "outputs": [],
   "source": [
    "from cmath import exp"
   ]
  },
  {
   "cell_type": "markdown",
   "metadata": {},
   "source": [
    "Now let's see if `cmath` and `exp` are in our module (global) namespace:"
   ]
  },
  {
   "cell_type": "code",
   "execution_count": 4,
   "metadata": {},
   "outputs": [
    {
     "data": {
      "text/plain": [
       "False"
      ]
     },
     "execution_count": 4,
     "metadata": {},
     "output_type": "execute_result"
    }
   ],
   "source": [
    "'cmath' in globals()"
   ]
  },
  {
   "cell_type": "code",
   "execution_count": 5,
   "metadata": {},
   "outputs": [
    {
     "data": {
      "text/plain": [
       "True"
      ]
     },
     "execution_count": 5,
     "metadata": {},
     "output_type": "execute_result"
    }
   ],
   "source": [
    "'exp' in globals()"
   ]
  },
  {
   "cell_type": "markdown",
   "metadata": {},
   "source": [
    "OK, so basically what that import did was create a symbol for `exp` in our namespace, but not for `cmath`.\n",
    "\n",
    "Does this mean that `cmath` was only \"partially\" loaded?"
   ]
  },
  {
   "cell_type": "markdown",
   "metadata": {},
   "source": [
    "How can Python \"partially\" load a (simple) module? How would it even know what to load up? Sure, maybe it could do some fancy kind of introspection and determine all the dependencies the symbols we are importing require. But it does not.\n",
    "\n",
    "It simply imports the entire module (using the techniques we have been covering in the last few videos)\n",
    "\n",
    "If we really want to partially load something, we would use a package, which, while still a `module` type, can be composed of several sub-packages. More on that later."
   ]
  },
  {
   "cell_type": "markdown",
   "metadata": {},
   "source": [
    "In, fact let's look at it in `sys.modules`:"
   ]
  },
  {
   "cell_type": "code",
   "execution_count": 6,
   "metadata": {},
   "outputs": [
    {
     "data": {
      "text/plain": [
       "<module 'cmath' (built-in)>"
      ]
     },
     "execution_count": 6,
     "metadata": {},
     "output_type": "execute_result"
    }
   ],
   "source": [
    "sys.modules['cmath']"
   ]
  },
  {
   "cell_type": "markdown",
   "metadata": {},
   "source": [
    "Yep, it's there...\n",
    "\n",
    "We can even get a handle to the `cmath` module:"
   ]
  },
  {
   "cell_type": "code",
   "execution_count": 7,
   "metadata": {
    "collapsed": true
   },
   "outputs": [],
   "source": [
    "cmath = sys.modules['cmath']"
   ]
  },
  {
   "cell_type": "code",
   "execution_count": 8,
   "metadata": {},
   "outputs": [
    {
     "data": {
      "text/plain": [
       "<module 'cmath' (built-in)>"
      ]
     },
     "execution_count": 8,
     "metadata": {},
     "output_type": "execute_result"
    }
   ],
   "source": [
    "cmath"
   ]
  },
  {
   "cell_type": "markdown",
   "metadata": {},
   "source": [
    "And now we can use `cmath` just as if we had done \n",
    "\n",
    "`import cmath`\n",
    "\n",
    "But you'll note that in this case we did not import the module, we did `from cmath import exp` only."
   ]
  },
  {
   "cell_type": "markdown",
   "metadata": {},
   "source": [
    "So we can use `exp` directly because of how we imported that specific symbol:"
   ]
  },
  {
   "cell_type": "code",
   "execution_count": 9,
   "metadata": {},
   "outputs": [
    {
     "data": {
      "text/plain": [
       "(-7.315110094901103+1.0427436562359045j)"
      ]
     },
     "execution_count": 9,
     "metadata": {},
     "output_type": "execute_result"
    }
   ],
   "source": [
    "exp(2+3j)"
   ]
  },
  {
   "cell_type": "markdown",
   "metadata": {},
   "source": [
    "But we can also use the `cmath` module directly now that we retrieved it from `sys.modules`:"
   ]
  },
  {
   "cell_type": "code",
   "execution_count": 10,
   "metadata": {},
   "outputs": [
    {
     "data": {
      "text/plain": [
       "(1.09868411346781+0.45508986056222733j)"
      ]
     },
     "execution_count": 10,
     "metadata": {},
     "output_type": "execute_result"
    }
   ],
   "source": [
    "cmath.sqrt(1+1j)"
   ]
  },
  {
   "cell_type": "markdown",
   "metadata": {},
   "source": [
    "So, the **entire** `cmath` module was loaded when we ran `from cmath import exp`, not just a portion of it!"
   ]
  },
  {
   "cell_type": "markdown",
   "metadata": {},
   "source": [
    "The only thing that happened is that Python put `cmath` in `sys.modules`, but **did not** add a `cmath` symbol to our module namespace, and **only added** the function `exp` to our namespace."
   ]
  },
  {
   "cell_type": "markdown",
   "metadata": {},
   "source": [
    "What about doing something like this:\n",
    "\n",
    "`from cmath import *`"
   ]
  },
  {
   "cell_type": "markdown",
   "metadata": {},
   "source": [
    "This is often frowned upon, and sometimes for good reason - but this is not a universal truth either.\n",
    "\n",
    "Let's see why, in our current context, it's maybe not such a good thing.\n",
    "\n",
    "First let's see what our global namespace looks like:"
   ]
  },
  {
   "cell_type": "code",
   "execution_count": 11,
   "metadata": {},
   "outputs": [
    {
     "data": {
      "text/plain": [
       "{'In': ['',\n",
       "  'import sys\\nfor key in sorted(sys.modules.keys()):\\n    print(key)',\n",
       "  \"'cmath' in sys.modules\",\n",
       "  'from cmath import exp',\n",
       "  \"'cmath' in globals()\",\n",
       "  \"'exp' in globals()\",\n",
       "  \"sys.modules['cmath']\",\n",
       "  \"cmath = sys.modules['cmath']\",\n",
       "  'cmath',\n",
       "  'exp(2+3j)',\n",
       "  'cmath.sqrt(1+1j)',\n",
       "  'globals()'],\n",
       " 'Out': {2: False,\n",
       "  4: False,\n",
       "  5: True,\n",
       "  6: <module 'cmath' (built-in)>,\n",
       "  8: <module 'cmath' (built-in)>,\n",
       "  9: (-7.315110094901103+1.0427436562359045j),\n",
       "  10: (1.09868411346781+0.45508986056222733j)},\n",
       " '_': (1.09868411346781+0.45508986056222733j),\n",
       " '_10': (1.09868411346781+0.45508986056222733j),\n",
       " '_2': False,\n",
       " '_4': False,\n",
       " '_5': True,\n",
       " '_6': <module 'cmath' (built-in)>,\n",
       " '_8': <module 'cmath' (built-in)>,\n",
       " '_9': (-7.315110094901103+1.0427436562359045j),\n",
       " '__': (-7.315110094901103+1.0427436562359045j),\n",
       " '___': <module 'cmath' (built-in)>,\n",
       " '__builtin__': <module 'builtins' (built-in)>,\n",
       " '__builtins__': <module 'builtins' (built-in)>,\n",
       " '__doc__': 'Automatically created module for IPython interactive environment',\n",
       " '__loader__': None,\n",
       " '__name__': '__main__',\n",
       " '__package__': None,\n",
       " '__spec__': None,\n",
       " '_dh': ['d:\\\\fbapt\\\\Dropbox\\\\Python Deep Dive\\\\Section 09 - Modules, Packages and Namespaces\\\\05 - Import Variants and Misconceptions'],\n",
       " '_i': 'cmath.sqrt(1+1j)',\n",
       " '_i1': 'import sys\\nfor key in sorted(sys.modules.keys()):\\n    print(key)',\n",
       " '_i10': 'cmath.sqrt(1+1j)',\n",
       " '_i11': 'globals()',\n",
       " '_i2': \"'cmath' in sys.modules\",\n",
       " '_i3': 'from cmath import exp',\n",
       " '_i4': \"'cmath' in globals()\",\n",
       " '_i5': \"'exp' in globals()\",\n",
       " '_i6': \"sys.modules['cmath']\",\n",
       " '_i7': \"cmath = sys.modules['cmath']\",\n",
       " '_i8': 'cmath',\n",
       " '_i9': 'exp(2+3j)',\n",
       " '_ih': ['',\n",
       "  'import sys\\nfor key in sorted(sys.modules.keys()):\\n    print(key)',\n",
       "  \"'cmath' in sys.modules\",\n",
       "  'from cmath import exp',\n",
       "  \"'cmath' in globals()\",\n",
       "  \"'exp' in globals()\",\n",
       "  \"sys.modules['cmath']\",\n",
       "  \"cmath = sys.modules['cmath']\",\n",
       "  'cmath',\n",
       "  'exp(2+3j)',\n",
       "  'cmath.sqrt(1+1j)',\n",
       "  'globals()'],\n",
       " '_ii': 'exp(2+3j)',\n",
       " '_iii': 'cmath',\n",
       " '_oh': {2: False,\n",
       "  4: False,\n",
       "  5: True,\n",
       "  6: <module 'cmath' (built-in)>,\n",
       "  8: <module 'cmath' (built-in)>,\n",
       "  9: (-7.315110094901103+1.0427436562359045j),\n",
       "  10: (1.09868411346781+0.45508986056222733j)},\n",
       " '_sh': <module 'IPython.core.shadowns' from 'D:\\\\Users\\\\fbapt\\\\Anaconda3\\\\lib\\\\site-packages\\\\IPython\\\\core\\\\shadowns.py'>,\n",
       " 'cmath': <module 'cmath' (built-in)>,\n",
       " 'exit': <IPython.core.autocall.ZMQExitAutocall at 0x1b7b61ecb00>,\n",
       " 'exp': <function cmath.exp>,\n",
       " 'get_ipython': <bound method InteractiveShell.get_ipython of <ipykernel.zmqshell.ZMQInteractiveShell object at 0x000001B7B61A84A8>>,\n",
       " 'key': 'zmq.utils.strtypes',\n",
       " 'quit': <IPython.core.autocall.ZMQExitAutocall at 0x1b7b61ecb00>,\n",
       " 'sys': <module 'sys' (built-in)>}"
      ]
     },
     "execution_count": 11,
     "metadata": {},
     "output_type": "execute_result"
    }
   ],
   "source": [
    "globals()"
   ]
  },
  {
   "cell_type": "markdown",
   "metadata": {},
   "source": [
    "Now let's do that import:"
   ]
  },
  {
   "cell_type": "code",
   "execution_count": 12,
   "metadata": {
    "collapsed": true
   },
   "outputs": [],
   "source": [
    "from cmath import *"
   ]
  },
  {
   "cell_type": "markdown",
   "metadata": {},
   "source": [
    "And let's see our namespace now:"
   ]
  },
  {
   "cell_type": "code",
   "execution_count": 13,
   "metadata": {},
   "outputs": [
    {
     "data": {
      "text/plain": [
       "{'In': ['',\n",
       "  'import sys\\nfor key in sorted(sys.modules.keys()):\\n    print(key)',\n",
       "  \"'cmath' in sys.modules\",\n",
       "  'from cmath import exp',\n",
       "  \"'cmath' in globals()\",\n",
       "  \"'exp' in globals()\",\n",
       "  \"sys.modules['cmath']\",\n",
       "  \"cmath = sys.modules['cmath']\",\n",
       "  'cmath',\n",
       "  'exp(2+3j)',\n",
       "  'cmath.sqrt(1+1j)',\n",
       "  'globals()',\n",
       "  'from cmath import *',\n",
       "  'globals()'],\n",
       " 'Out': {2: False,\n",
       "  4: False,\n",
       "  5: True,\n",
       "  6: <module 'cmath' (built-in)>,\n",
       "  8: <module 'cmath' (built-in)>,\n",
       "  9: (-7.315110094901103+1.0427436562359045j),\n",
       "  10: (1.09868411346781+0.45508986056222733j),\n",
       "  11: {...}},\n",
       " '_': {...},\n",
       " '_10': (1.09868411346781+0.45508986056222733j),\n",
       " '_11': {...},\n",
       " '_2': False,\n",
       " '_4': False,\n",
       " '_5': True,\n",
       " '_6': <module 'cmath' (built-in)>,\n",
       " '_8': <module 'cmath' (built-in)>,\n",
       " '_9': (-7.315110094901103+1.0427436562359045j),\n",
       " '__': (1.09868411346781+0.45508986056222733j),\n",
       " '___': (-7.315110094901103+1.0427436562359045j),\n",
       " '__builtin__': <module 'builtins' (built-in)>,\n",
       " '__builtins__': <module 'builtins' (built-in)>,\n",
       " '__doc__': 'Automatically created module for IPython interactive environment',\n",
       " '__loader__': None,\n",
       " '__name__': '__main__',\n",
       " '__package__': None,\n",
       " '__spec__': None,\n",
       " '_dh': ['d:\\\\fbapt\\\\Dropbox\\\\Python Deep Dive\\\\Section 09 - Modules, Packages and Namespaces\\\\05 - Import Variants and Misconceptions'],\n",
       " '_i': 'from cmath import *',\n",
       " '_i1': 'import sys\\nfor key in sorted(sys.modules.keys()):\\n    print(key)',\n",
       " '_i10': 'cmath.sqrt(1+1j)',\n",
       " '_i11': 'globals()',\n",
       " '_i12': 'from cmath import *',\n",
       " '_i13': 'globals()',\n",
       " '_i2': \"'cmath' in sys.modules\",\n",
       " '_i3': 'from cmath import exp',\n",
       " '_i4': \"'cmath' in globals()\",\n",
       " '_i5': \"'exp' in globals()\",\n",
       " '_i6': \"sys.modules['cmath']\",\n",
       " '_i7': \"cmath = sys.modules['cmath']\",\n",
       " '_i8': 'cmath',\n",
       " '_i9': 'exp(2+3j)',\n",
       " '_ih': ['',\n",
       "  'import sys\\nfor key in sorted(sys.modules.keys()):\\n    print(key)',\n",
       "  \"'cmath' in sys.modules\",\n",
       "  'from cmath import exp',\n",
       "  \"'cmath' in globals()\",\n",
       "  \"'exp' in globals()\",\n",
       "  \"sys.modules['cmath']\",\n",
       "  \"cmath = sys.modules['cmath']\",\n",
       "  'cmath',\n",
       "  'exp(2+3j)',\n",
       "  'cmath.sqrt(1+1j)',\n",
       "  'globals()',\n",
       "  'from cmath import *',\n",
       "  'globals()'],\n",
       " '_ii': 'globals()',\n",
       " '_iii': 'cmath.sqrt(1+1j)',\n",
       " '_oh': {2: False,\n",
       "  4: False,\n",
       "  5: True,\n",
       "  6: <module 'cmath' (built-in)>,\n",
       "  8: <module 'cmath' (built-in)>,\n",
       "  9: (-7.315110094901103+1.0427436562359045j),\n",
       "  10: (1.09868411346781+0.45508986056222733j),\n",
       "  11: {...}},\n",
       " '_sh': <module 'IPython.core.shadowns' from 'D:\\\\Users\\\\fbapt\\\\Anaconda3\\\\lib\\\\site-packages\\\\IPython\\\\core\\\\shadowns.py'>,\n",
       " 'acos': <function cmath.acos>,\n",
       " 'acosh': <function cmath.acosh>,\n",
       " 'asin': <function cmath.asin>,\n",
       " 'asinh': <function cmath.asinh>,\n",
       " 'atan': <function cmath.atan>,\n",
       " 'atanh': <function cmath.atanh>,\n",
       " 'cmath': <module 'cmath' (built-in)>,\n",
       " 'cos': <function cmath.cos>,\n",
       " 'cosh': <function cmath.cosh>,\n",
       " 'e': 2.718281828459045,\n",
       " 'exit': <IPython.core.autocall.ZMQExitAutocall at 0x1b7b61ecb00>,\n",
       " 'exp': <function cmath.exp>,\n",
       " 'get_ipython': <bound method InteractiveShell.get_ipython of <ipykernel.zmqshell.ZMQInteractiveShell object at 0x000001B7B61A84A8>>,\n",
       " 'inf': inf,\n",
       " 'infj': infj,\n",
       " 'isclose': <function cmath.isclose>,\n",
       " 'isfinite': <function cmath.isfinite>,\n",
       " 'isinf': <function cmath.isinf>,\n",
       " 'isnan': <function cmath.isnan>,\n",
       " 'key': 'zmq.utils.strtypes',\n",
       " 'log': <function cmath.log>,\n",
       " 'log10': <function cmath.log10>,\n",
       " 'nan': nan,\n",
       " 'nanj': nanj,\n",
       " 'phase': <function cmath.phase>,\n",
       " 'pi': 3.141592653589793,\n",
       " 'polar': <function cmath.polar>,\n",
       " 'quit': <IPython.core.autocall.ZMQExitAutocall at 0x1b7b61ecb00>,\n",
       " 'rect': <function cmath.rect>,\n",
       " 'sin': <function cmath.sin>,\n",
       " 'sinh': <function cmath.sinh>,\n",
       " 'sqrt': <function cmath.sqrt>,\n",
       " 'sys': <module 'sys' (built-in)>,\n",
       " 'tan': <function cmath.tan>,\n",
       " 'tanh': <function cmath.tanh>,\n",
       " 'tau': 6.283185307179586}"
      ]
     },
     "execution_count": 13,
     "metadata": {},
     "output_type": "execute_result"
    }
   ],
   "source": [
    "globals()"
   ]
  },
  {
   "cell_type": "markdown",
   "metadata": {},
   "source": [
    "Some people say the namespace was \"polluted\". In a way I guess that's true, but it does mean I can now access **all** attributes in `cmath` without prefixing them with `cmath` all the time: "
   ]
  },
  {
   "cell_type": "code",
   "execution_count": 14,
   "metadata": {},
   "outputs": [
    {
     "data": {
      "text/plain": [
       "(1.5537739740300374+0.6435942529055826j)"
      ]
     },
     "execution_count": 14,
     "metadata": {},
     "output_type": "execute_result"
    }
   ],
   "source": [
    "sqrt(2+2j)"
   ]
  },
  {
   "cell_type": "code",
   "execution_count": 15,
   "metadata": {},
   "outputs": [
    {
     "data": {
      "text/plain": [
       "3.141592653589793"
      ]
     },
     "execution_count": 15,
     "metadata": {},
     "output_type": "execute_result"
    }
   ],
   "source": [
    "pi"
   ]
  },
  {
   "cell_type": "code",
   "execution_count": 16,
   "metadata": {},
   "outputs": [
    {
     "data": {
      "text/plain": [
       "(9.15449914691143+4.168906959966565j)"
      ]
     },
     "execution_count": 16,
     "metadata": {},
     "output_type": "execute_result"
    }
   ],
   "source": [
    "sin(2-3j)"
   ]
  },
  {
   "cell_type": "markdown",
   "metadata": {},
   "source": [
    "In and of itself, there's nothing wrong with that...\n",
    "\n",
    "But a couple of issues:"
   ]
  },
  {
   "cell_type": "markdown",
   "metadata": {},
   "source": [
    "The first one is that when I call `sin` just like that, someone reading my code does not immediately know where that function came from. Was it a function I implemented in my module? some other custom module? the `cmath` module? the `math` module?"
   ]
  },
  {
   "cell_type": "markdown",
   "metadata": {},
   "source": [
    "The second one is that you can run into serious problems if you also need to import the `math` module:"
   ]
  },
  {
   "cell_type": "markdown",
   "metadata": {},
   "source": [
    "Currently the `sqrt` symbol is the `cmath.sqrt` function:"
   ]
  },
  {
   "cell_type": "code",
   "execution_count": 17,
   "metadata": {},
   "outputs": [
    {
     "data": {
      "text/plain": [
       "<function cmath.sqrt>"
      ]
     },
     "execution_count": 17,
     "metadata": {},
     "output_type": "execute_result"
    }
   ],
   "source": [
    "sqrt"
   ]
  },
  {
   "cell_type": "code",
   "execution_count": 18,
   "metadata": {
    "collapsed": true
   },
   "outputs": [],
   "source": [
    "from math import *"
   ]
  },
  {
   "cell_type": "markdown",
   "metadata": {},
   "source": [
    "What just happened to the `sqrt` function that was in our namespace?"
   ]
  },
  {
   "cell_type": "code",
   "execution_count": 19,
   "metadata": {},
   "outputs": [
    {
     "data": {
      "text/plain": [
       "<function math.sqrt>"
      ]
     },
     "execution_count": 19,
     "metadata": {},
     "output_type": "execute_result"
    }
   ],
   "source": [
    "sqrt"
   ]
  },
  {
   "cell_type": "markdown",
   "metadata": {},
   "source": [
    "As you can see, the symbol `sqrt` in our namespace no longer refers to the `sqrt` function in `cmath` but rather to the one in `math`.\n",
    "\n",
    "It just got replaced by the `sqrt` function in the `math` module because it has the same name (`sqrt`)."
   ]
  },
  {
   "cell_type": "markdown",
   "metadata": {},
   "source": [
    "This is one of the reasons why `from ... import *` is sometimes frowned upon.\n",
    "\n",
    "But the same problem can happen if you use a `from` import this way:"
   ]
  },
  {
   "cell_type": "code",
   "execution_count": 20,
   "metadata": {
    "collapsed": true
   },
   "outputs": [],
   "source": [
    "from cmath import sqrt\n",
    "from math import sqrt"
   ]
  },
  {
   "cell_type": "markdown",
   "metadata": {},
   "source": [
    "Same thing happened here, the `math.sqrt` function just clobbered the `cmath.sqrt` function.\n",
    "\n",
    "One option here is to use:"
   ]
  },
  {
   "cell_type": "code",
   "execution_count": 21,
   "metadata": {
    "collapsed": true
   },
   "outputs": [],
   "source": [
    "import cmath\n",
    "import math"
   ]
  },
  {
   "cell_type": "code",
   "execution_count": 22,
   "metadata": {},
   "outputs": [
    {
     "data": {
      "text/plain": [
       "1.4142135623730951"
      ]
     },
     "execution_count": 22,
     "metadata": {},
     "output_type": "execute_result"
    }
   ],
   "source": [
    "math.sqrt(2)"
   ]
  },
  {
   "cell_type": "code",
   "execution_count": 23,
   "metadata": {},
   "outputs": [
    {
     "data": {
      "text/plain": [
       "(1.5537739740300374+0.6435942529055826j)"
      ]
     },
     "execution_count": 23,
     "metadata": {},
     "output_type": "execute_result"
    }
   ],
   "source": [
    "cmath.sqrt(2+2j)"
   ]
  },
  {
   "cell_type": "markdown",
   "metadata": {},
   "source": [
    "But Python also allows us to alias our imports using the `as` keyword.\n",
    "\n",
    "We can alias either the entire module, or just the symbols being imported from the module:"
   ]
  },
  {
   "cell_type": "code",
   "execution_count": 24,
   "metadata": {
    "collapsed": true
   },
   "outputs": [],
   "source": [
    "import math as r_math\n",
    "import cmath as c_math"
   ]
  },
  {
   "cell_type": "code",
   "execution_count": 25,
   "metadata": {},
   "outputs": [
    {
     "data": {
      "text/plain": [
       "<module 'math' (built-in)>"
      ]
     },
     "execution_count": 25,
     "metadata": {},
     "output_type": "execute_result"
    }
   ],
   "source": [
    "r_math"
   ]
  },
  {
   "cell_type": "code",
   "execution_count": 26,
   "metadata": {},
   "outputs": [
    {
     "data": {
      "text/plain": [
       "<module 'cmath' (built-in)>"
      ]
     },
     "execution_count": 26,
     "metadata": {},
     "output_type": "execute_result"
    }
   ],
   "source": [
    "c_math"
   ]
  },
  {
   "cell_type": "code",
   "execution_count": 27,
   "metadata": {},
   "outputs": [
    {
     "data": {
      "text/plain": [
       "1.4142135623730951"
      ]
     },
     "execution_count": 27,
     "metadata": {},
     "output_type": "execute_result"
    }
   ],
   "source": [
    "r_math.sqrt(2)"
   ]
  },
  {
   "cell_type": "code",
   "execution_count": 28,
   "metadata": {},
   "outputs": [
    {
     "data": {
      "text/plain": [
       "(1.4142135623730951+0j)"
      ]
     },
     "execution_count": 28,
     "metadata": {},
     "output_type": "execute_result"
    }
   ],
   "source": [
    "c_math.sqrt(2)"
   ]
  },
  {
   "cell_type": "markdown",
   "metadata": {},
   "source": [
    "By the way, this is the **exact** same result as doing:"
   ]
  },
  {
   "cell_type": "code",
   "execution_count": 29,
   "metadata": {
    "collapsed": true
   },
   "outputs": [],
   "source": [
    "import importlib"
   ]
  },
  {
   "cell_type": "code",
   "execution_count": 30,
   "metadata": {
    "collapsed": true
   },
   "outputs": [],
   "source": [
    "r_math = importlib.import_module('math')\n",
    "c_math = importlib.import_module('cmath')"
   ]
  },
  {
   "cell_type": "code",
   "execution_count": 31,
   "metadata": {},
   "outputs": [
    {
     "data": {
      "text/plain": [
       "<module 'math' (built-in)>"
      ]
     },
     "execution_count": 31,
     "metadata": {},
     "output_type": "execute_result"
    }
   ],
   "source": [
    "r_math"
   ]
  },
  {
   "cell_type": "code",
   "execution_count": 32,
   "metadata": {},
   "outputs": [
    {
     "data": {
      "text/plain": [
       "<module 'cmath' (built-in)>"
      ]
     },
     "execution_count": 32,
     "metadata": {},
     "output_type": "execute_result"
    }
   ],
   "source": [
    "c_math"
   ]
  },
  {
   "cell_type": "markdown",
   "metadata": {},
   "source": [
    "We can also alias symbols from the imported module:"
   ]
  },
  {
   "cell_type": "code",
   "execution_count": 33,
   "metadata": {
    "collapsed": true
   },
   "outputs": [],
   "source": [
    "from math import sqrt as r_sqrt\n",
    "from cmath import sqrt as c_sqrt"
   ]
  },
  {
   "cell_type": "code",
   "execution_count": 34,
   "metadata": {},
   "outputs": [
    {
     "data": {
      "text/plain": [
       "<function math.sqrt>"
      ]
     },
     "execution_count": 34,
     "metadata": {},
     "output_type": "execute_result"
    }
   ],
   "source": [
    "r_sqrt"
   ]
  },
  {
   "cell_type": "code",
   "execution_count": 35,
   "metadata": {},
   "outputs": [
    {
     "data": {
      "text/plain": [
       "<function cmath.sqrt>"
      ]
     },
     "execution_count": 35,
     "metadata": {},
     "output_type": "execute_result"
    }
   ],
   "source": [
    "c_sqrt"
   ]
  },
  {
   "cell_type": "markdown",
   "metadata": {},
   "source": [
    "Again, we can reproduce this using the following:"
   ]
  },
  {
   "cell_type": "code",
   "execution_count": 36,
   "metadata": {
    "collapsed": true
   },
   "outputs": [],
   "source": [
    "r_sqrt = importlib.import_module('math').sqrt\n",
    "c_sqrt = importlib.import_module('cmath').sqrt"
   ]
  },
  {
   "cell_type": "code",
   "execution_count": 37,
   "metadata": {},
   "outputs": [
    {
     "data": {
      "text/plain": [
       "<function math.sqrt>"
      ]
     },
     "execution_count": 37,
     "metadata": {},
     "output_type": "execute_result"
    }
   ],
   "source": [
    "r_sqrt"
   ]
  },
  {
   "cell_type": "code",
   "execution_count": 38,
   "metadata": {},
   "outputs": [
    {
     "data": {
      "text/plain": [
       "<function cmath.sqrt>"
      ]
     },
     "execution_count": 38,
     "metadata": {},
     "output_type": "execute_result"
    }
   ],
   "source": [
    "c_sqrt"
   ]
  },
  {
   "cell_type": "markdown",
   "metadata": {},
   "source": [
    "At the end of the day, the module is always loaded and cached (`sys.modules`), these different variants of the `import` statement merely determine what symbols are added to our module (global) namespace. That's it.\n",
    "\n",
    "It's a little different for packages as we'll see later."
   ]
  },
  {
   "cell_type": "markdown",
   "metadata": {},
   "source": [
    "#### Efficiency"
   ]
  },
  {
   "cell_type": "markdown",
   "metadata": {},
   "source": [
    "The final thing we need to look at is often mentioned in various blog posts and online discussions.\n",
    "\n",
    "`import variant #1` is more \"efficient\" than `import variant #2`\n",
    "\n",
    "Maybe so, but realistically by how much?\n",
    "\n",
    "Or even how the following is terribly wrong because it re-imports the `math` module **every** time `my_func` is called:"
   ]
  },
  {
   "cell_type": "code",
   "execution_count": 39,
   "metadata": {
    "collapsed": true
   },
   "outputs": [],
   "source": [
    "def my_func(a):\n",
    "    import math\n",
    "    return math.sqrt(a)"
   ]
  },
  {
   "cell_type": "markdown",
   "metadata": {},
   "source": [
    "From a readability standpoint, yes, that is **not** a good idea. Much better to put all your imports at the top of the module once in a location where any reader can easily see all your module dependencies.\n",
    "\n",
    "But as far as reloading the module, you should now understand that's absolutely not true. Instead, it has to do a dictionary lookup in the `sys.modules` dictionary, not reload the entire module after the first load has occurred!\n",
    "\n",
    "Dictionary lookups are blazingly fast in Python - so, yes, there is some overhead, but not as much as you may think."
   ]
  },
  {
   "cell_type": "markdown",
   "metadata": {},
   "source": [
    "So, let's write some timing code to test these things and see how they compare.\n",
    "\n",
    "We shoudl consider both relative speed differences as well as absilute speed differences.\n",
    "\n",
    "If you try to optimize your code and end up reducing that code's speed by 50% that sounds good. But what if the original code ran in `1`s. Now it runs in `0.5`s. How long does the total program run? Down from `30`s to `29.5`s? Things are relative..."
   ]
  },
  {
   "cell_type": "code",
   "execution_count": 40,
   "metadata": {
    "collapsed": true
   },
   "outputs": [],
   "source": [
    "from time import perf_counter"
   ]
  },
  {
   "cell_type": "markdown",
   "metadata": {},
   "source": [
    "Yes, I'm using a `from` import - for readability and typing reasons. How many other modules are out there where I run the risk of clobbering `perf_counter`? I can't think of one. Certainly not in any imports I'm going to be using here. It's such a unique name, I feel pretty safe!"
   ]
  },
  {
   "cell_type": "markdown",
   "metadata": {},
   "source": [
    "I'm also going to write a small utility function that compares two timings to each other:"
   ]
  },
  {
   "cell_type": "code",
   "execution_count": 41,
   "metadata": {
    "collapsed": true
   },
   "outputs": [],
   "source": [
    "from collections import namedtuple\n",
    "\n",
    "Timings = namedtuple('Timings', 'timing_1 timing_2 abs_diff rel_diff_perc')\n",
    "def compare_timings(timing1, timing2):\n",
    "    rel_diff = (timing2 - timing1)/timing1 * 100\n",
    "    \n",
    "    timings = Timings(round(timing1, 1),\n",
    "                     round(timing2, 1),\n",
    "                     round(timing2 - timing1, 2),\n",
    "                     round(rel_diff, 2))\n",
    "    return timings"
   ]
  },
  {
   "cell_type": "markdown",
   "metadata": {},
   "source": [
    "##### Timing using fully qualified `module.symbol` "
   ]
  },
  {
   "cell_type": "code",
   "execution_count": 42,
   "metadata": {
    "collapsed": true
   },
   "outputs": [],
   "source": [
    "test_repeats = 10_000_000"
   ]
  },
  {
   "cell_type": "code",
   "execution_count": 43,
   "metadata": {},
   "outputs": [
    {
     "name": "stdout",
     "output_type": "stream",
     "text": [
      "Elapsed: 2.057656398357829\n"
     ]
    }
   ],
   "source": [
    "import math\n",
    "\n",
    "start = perf_counter()\n",
    "for _ in range(test_repeats):\n",
    "    math.sqrt(2)\n",
    "end = perf_counter()\n",
    "elapsed_fully_qualified = end - start\n",
    "print(f'Elapsed: {elapsed_fully_qualified}')"
   ]
  },
  {
   "cell_type": "markdown",
   "metadata": {},
   "source": [
    "##### Timing using a directly imported symbol name:"
   ]
  },
  {
   "cell_type": "code",
   "execution_count": 44,
   "metadata": {},
   "outputs": [
    {
     "name": "stdout",
     "output_type": "stream",
     "text": [
      "Elapsed: 1.603430354697538\n"
     ]
    }
   ],
   "source": [
    "from math import sqrt\n",
    "\n",
    "start = perf_counter()\n",
    "for _ in range(test_repeats):\n",
    "    sqrt(2)\n",
    "end = perf_counter()\n",
    "elapsed_direct_symbol = end - start\n",
    "print(f'Elapsed: {elapsed_direct_symbol}')"
   ]
  },
  {
   "cell_type": "markdown",
   "metadata": {},
   "source": [
    "Let's see the relative and absolute time differences:"
   ]
  },
  {
   "cell_type": "code",
   "execution_count": 45,
   "metadata": {},
   "outputs": [
    {
     "data": {
      "text/plain": [
       "Timings(timing_1=2.1, timing_2=1.6, abs_diff=-0.45, rel_diff_perc=-22.07)"
      ]
     },
     "execution_count": 45,
     "metadata": {},
     "output_type": "execute_result"
    }
   ],
   "source": [
    "compare_timings(elapsed_fully_qualified, elapsed_direct_symbol)"
   ]
  },
  {
   "cell_type": "markdown",
   "metadata": {},
   "source": [
    "Definitely faster - but in absolute terms I really did not save a whole lot - over `10,000,000` iterations!"
   ]
  },
  {
   "cell_type": "markdown",
   "metadata": {},
   "source": [
    "##### Timing using a function (fully qualified symbol)"
   ]
  },
  {
   "cell_type": "code",
   "execution_count": 46,
   "metadata": {},
   "outputs": [
    {
     "name": "stdout",
     "output_type": "stream",
     "text": [
      "Elapsed: 3.2668947610088703\n"
     ]
    }
   ],
   "source": [
    "import math\n",
    "\n",
    "def func():\n",
    "    math.sqrt(2)\n",
    "    \n",
    "start = perf_counter()\n",
    "for _ in range(test_repeats):\n",
    "    func()\n",
    "end = perf_counter()\n",
    "elapsed_func_fully_qualified = end - start\n",
    "print(f'Elapsed: {elapsed_func_fully_qualified}') "
   ]
  },
  {
   "cell_type": "code",
   "execution_count": 47,
   "metadata": {},
   "outputs": [
    {
     "data": {
      "text/plain": [
       "Timings(timing_1=2.1, timing_2=3.3, abs_diff=1.21, rel_diff_perc=58.77)"
      ]
     },
     "execution_count": 47,
     "metadata": {},
     "output_type": "execute_result"
    }
   ],
   "source": [
    "compare_timings(elapsed_fully_qualified, elapsed_func_fully_qualified)"
   ]
  },
  {
   "cell_type": "markdown",
   "metadata": {},
   "source": [
    "That was slower because of the function call overhead, but not by much in absolute terms considering I called `func()` `10,000,000` times!"
   ]
  },
  {
   "cell_type": "markdown",
   "metadata": {},
   "source": [
    "##### Timing using a function (direct symbol)"
   ]
  },
  {
   "cell_type": "code",
   "execution_count": 48,
   "metadata": {
    "scrolled": true
   },
   "outputs": [
    {
     "name": "stdout",
     "output_type": "stream",
     "text": [
      "Elapsed: 2.80123663975316\n"
     ]
    }
   ],
   "source": [
    "from math import sqrt\n",
    "\n",
    "def func():\n",
    "    sqrt(2)\n",
    "    \n",
    "start = perf_counter()\n",
    "for _ in range(test_repeats):\n",
    "    func()\n",
    "end = perf_counter()\n",
    "elapsed_func_direct_symbol = end - start\n",
    "print(f'Elapsed: {elapsed_func_direct_symbol}')"
   ]
  },
  {
   "cell_type": "code",
   "execution_count": 49,
   "metadata": {},
   "outputs": [
    {
     "data": {
      "text/plain": [
       "Timings(timing_1=3.3, timing_2=2.8, abs_diff=-0.47, rel_diff_perc=-14.25)"
      ]
     },
     "execution_count": 49,
     "metadata": {},
     "output_type": "execute_result"
    }
   ],
   "source": [
    "compare_timings(elapsed_func_fully_qualified, elapsed_func_direct_symbol)"
   ]
  },
  {
   "cell_type": "markdown",
   "metadata": {},
   "source": [
    "Slower, but again not by much in absolute terms considering this was for `10,000,000` iterations."
   ]
  },
  {
   "cell_type": "markdown",
   "metadata": {},
   "source": [
    "##### Timing using a nested import (fully qualified symbol)"
   ]
  },
  {
   "cell_type": "code",
   "execution_count": 50,
   "metadata": {},
   "outputs": [
    {
     "name": "stdout",
     "output_type": "stream",
     "text": [
      "Elapsed: 5.041648347331877\n"
     ]
    }
   ],
   "source": [
    "def func():\n",
    "    import math\n",
    "    math.sqrt(2)\n",
    "    \n",
    "start = perf_counter()\n",
    "for _ in range(test_repeats):\n",
    "    func()\n",
    "end = perf_counter()\n",
    "elapsed_nested_fully_qualified = end - start\n",
    "print(f'Elapsed: {elapsed_nested_fully_qualified}')"
   ]
  },
  {
   "cell_type": "code",
   "execution_count": 51,
   "metadata": {},
   "outputs": [
    {
     "data": {
      "text/plain": [
       "Timings(timing_1=3.3, timing_2=5.0, abs_diff=1.77, rel_diff_perc=54.33)"
      ]
     },
     "execution_count": 51,
     "metadata": {},
     "output_type": "execute_result"
    }
   ],
   "source": [
    "compare_timings(elapsed_func_fully_qualified, elapsed_nested_fully_qualified)"
   ]
  },
  {
   "cell_type": "markdown",
   "metadata": {},
   "source": [
    "So definitely slower. But in absolute terms, for `10,000,000` iterations?"
   ]
  },
  {
   "cell_type": "markdown",
   "metadata": {},
   "source": [
    "##### Timing using a nested import (direct symbol)"
   ]
  },
  {
   "cell_type": "code",
   "execution_count": 52,
   "metadata": {},
   "outputs": [
    {
     "name": "stdout",
     "output_type": "stream",
     "text": [
      "Elapsed: 14.60262281403945\n"
     ]
    }
   ],
   "source": [
    "def func():\n",
    "    from math import sqrt\n",
    "    sqrt(2)\n",
    "    \n",
    "start = perf_counter()\n",
    "for _ in range(test_repeats):\n",
    "    func()\n",
    "end = perf_counter()\n",
    "elapsed_nested_direct_symbol = end - start\n",
    "print(f'Elapsed: {elapsed_nested_direct_symbol}')"
   ]
  },
  {
   "cell_type": "code",
   "execution_count": 53,
   "metadata": {},
   "outputs": [
    {
     "data": {
      "text/plain": [
       "Timings(timing_1=5.0, timing_2=14.6, abs_diff=9.56, rel_diff_perc=189.64)"
      ]
     },
     "execution_count": 53,
     "metadata": {},
     "output_type": "execute_result"
    }
   ],
   "source": [
    "compare_timings(elapsed_nested_fully_qualified, elapsed_nested_direct_symbol)"
   ]
  },
  {
   "cell_type": "markdown",
   "metadata": {},
   "source": [
    "That was significantly slower! Even in absolute terms this is starting to get sloooow."
   ]
  },
  {
   "cell_type": "markdown",
   "metadata": {},
   "source": [
    "So does this mean you should put imports inside functions?\n",
    "\n",
    "No, of course not - follow the convention, it makes code far more readable, and of course optimize your code only once you have identified the bottlenecks. \n",
    "\n",
    "Does this mean you shouldn't care at all about the performance of your code based on the import variants?\n",
    "\n",
    "Again, of course not - you absolutely should.\n",
    "\n",
    "But, there is absolutely no reason to re-write your code from \n",
    "\n",
    "`import math\n",
    "math.sqrt(2)`\n",
    "\n",
    "to \n",
    "\n",
    "`from math import sqrt\n",
    "sqrt(2)\n",
    "`\n",
    "\n",
    "for **speed** reasons if during the entire lifetime of your application you only call that function `100` times... or `10,000,000` times.\n",
    "\n",
    "Really depends on your circumstance - be aware of it, but don't try to optimize code until you know **where** you **need** to optimize!\n",
    "\n",
    "*[I've seen people refactor parts of their code for sub-second improvements, when, in fact, the largest bottleneck was that they were opening and closing database connections at every read and write instead of pooling connections or something like that]*"
   ]
  },
  {
   "cell_type": "markdown",
   "metadata": {},
   "source": [
    "And\n",
    "\n",
    "`from module import *`\n",
    "\n",
    "has its uses as we'll see later when we discuss packages.\n",
    "\n",
    "It's not evil, just not very safe - again depends on your circumstance."
   ]
  }
 ],
 "metadata": {
  "kernelspec": {
   "display_name": "Python 3",
   "language": "python",
   "name": "python3"
  },
  "language_info": {
   "codemirror_mode": {
    "name": "ipython",
    "version": 3
   },
   "file_extension": ".py",
   "mimetype": "text/x-python",
   "name": "python",
   "nbconvert_exporter": "python",
   "pygments_lexer": "ipython3",
   "version": "3.8.2-final"
  }
 },
 "nbformat": 4,
 "nbformat_minor": 2
}